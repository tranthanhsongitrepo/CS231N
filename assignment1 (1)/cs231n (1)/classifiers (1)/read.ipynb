{
 "nbformat": 4,
 "nbformat_minor": 2,
 "metadata": {
  "language_info": {
   "name": "python",
   "codemirror_mode": {
    "name": "ipython",
    "version": 3
   },
   "version": "3.7.7-final"
  },
  "orig_nbformat": 2,
  "file_extension": ".py",
  "mimetype": "text/x-python",
  "name": "python",
  "npconvert_exporter": "python",
  "pygments_lexer": "ipython3",
  "version": 3,
  "kernelspec": {
   "name": "python37764bitcs231nconda74d7b2ea530b458b9916e049d18e229c",
   "display_name": "Python 3.7.7 64-bit ('cs231n': conda)"
  }
 },
 "cells": [
  {
   "cell_type": "code",
   "execution_count": null,
   "metadata": {},
   "outputs": [],
   "source": [
    "import cv2\n",
    "\n",
    "# read image\n",
    "img = cv2.imread('girl_xinh.jpg')\n",
    "\n",
    "# image dimension\n",
    "print('img.shape:', img.shape)"
   ]
  }
 ]
}